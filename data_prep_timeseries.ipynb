{
 "cells": [
  {
   "cell_type": "code",
   "execution_count": null,
   "metadata": {},
   "outputs": [],
   "source": [
    "import timeseries_acquire as tsa\n",
    "import timeseries_prepare as tsp\n",
    "import pandas as pd\n",
    "import matplotlib.pyplot as plt\n",
    "import seaborn as sns\n",
    "\n",
    "import warnings\n",
    "warnings.filterwarnings('ignore')"
   ]
  },
  {
   "cell_type": "code",
   "execution_count": null,
   "metadata": {},
   "outputs": [],
   "source": [
    "# acquire dataframes\n",
    "items_df = tsa.acquire_df('items')\n",
    "stores_df = tsa.acquire_df('stores')\n",
    "sales_df = tsa.acquire_df('sales')"
   ]
  },
  {
   "cell_type": "code",
   "execution_count": null,
   "metadata": {},
   "outputs": [],
   "source": [
    "# combine the dataframes\n",
    "df = tsa.combine_data(sales_df, items_df, stores_df)\n",
    "df"
   ]
  },
  {
   "cell_type": "code",
   "execution_count": null,
   "metadata": {},
   "outputs": [],
   "source": [
    "# Convert date column to datetime format.\n",
    "df['sale_date'] = pd.to_datetime(df['sale_date'])"
   ]
  },
  {
   "cell_type": "code",
   "execution_count": null,
   "metadata": {},
   "outputs": [],
   "source": [
    "# Plot the distribution of sale_amount and item_price.\n",
    "sns.distplot(df['sale_amount'], hist=True, kde=True, bins=100, color='darkblue', hist_kws={'edgecolor':'black'}, kde_kws={'linewidth': 4})\n",
    "plt.title('Distribution of Sale Amount')\n",
    "plt.xlabel('Sale Amount')\n",
    "plt.ylabel('Density')\n",
    "plt.show()"
   ]
  },
  {
   "cell_type": "code",
   "execution_count": null,
   "metadata": {},
   "outputs": [],
   "source": [
    "sns.distplot(df['item_price'], hist=True, kde=True, bins=25, color='darkblue', hist_kws={'edgecolor':'black'}, kde_kws={'linewidth': 4})\n",
    "plt.title('Distribution of Item Price')\n",
    "plt.xlabel('Item Price')\n",
    "plt.ylabel('Density')\n",
    "plt.show()"
   ]
  },
  {
   "cell_type": "code",
   "execution_count": null,
   "metadata": {},
   "outputs": [],
   "source": [
    "# Set the index to be the datetime variable.\n",
    "df.set_index('sale_date', inplace=True)"
   ]
  },
  {
   "cell_type": "code",
   "execution_count": null,
   "metadata": {},
   "outputs": [],
   "source": [
    "# Add a 'month' and 'day of week' column to your dataframe.\n",
    "df['month'] = df.index.month_name()\n",
    "df['day_of_week'] = df.index.day_name()"
   ]
  },
  {
   "cell_type": "code",
   "execution_count": null,
   "metadata": {},
   "outputs": [],
   "source": [
    "df"
   ]
  },
  {
   "cell_type": "code",
   "execution_count": null,
   "metadata": {},
   "outputs": [],
   "source": [
    "# Add a column to your dataframe, sales_total, which is a derived from sale_amount (total items) and item_price.\n",
    "df['sales_total'] = df['sale_amount'] * df['item_price']"
   ]
  },
  {
   "cell_type": "code",
   "execution_count": null,
   "metadata": {},
   "outputs": [],
   "source": [
    "def trinity_prep(df):\n",
    "    ''' This function takes in the trinity(sale, items, stores) dataframe and returns a dataframe with the following changes: \n",
    "    'sale_date' column is converted to datetime format, 'month' and 'day_of_week' columns are added, and 'sales_total' column is added.\n",
    "    '''\n",
    "    df['sale_date'] = pd.to_datetime(df['sale_date'])\n",
    "    df.set_index('sale_date', inplace=True)\n",
    "    df['month'] = df.index.month_name()\n",
    "    df['day_of_week'] = df.index.day_name() \n",
    "    df['sales_total'] = df['sale_amount'] * df['item_price']\n",
    "    return df\n",
    "    "
   ]
  },
  {
   "cell_type": "markdown",
   "metadata": {},
   "source": [
    "Using the OPS data acquired in the Acquire exercises opsd_germany_daily.csv, complete the following:\n",
    "\n",
    "1. Convert date column to datetime format.\n",
    "2. Plot the distribution of each of your variables.\n",
    "3. Set the index to be the datetime variable.\n",
    "4. Add a month and a year column to your dataframe.\n",
    "5. Fill any missing values.\n",
    "6. Make sure all the work that you have done above is reproducible. That is, you should put the code above into separate functions and be able to re-run the functions and get the same results."
   ]
  },
  {
   "cell_type": "code",
   "execution_count": null,
   "metadata": {},
   "outputs": [],
   "source": [
    "# Acquire the opsd_germany_daily dataframe.\n",
    "opsd = tsa.acquire_opsd_germany_daily()\n",
    "opsd"
   ]
  },
  {
   "cell_type": "code",
   "execution_count": null,
   "metadata": {},
   "outputs": [],
   "source": [
    "# Plot the distribution of each of your variables in the opsd_germany_daily dataframe.\n",
    "sns.distplot(opsd['Consumption'], hist=True, kde=True, bins=100, color='darkblue', hist_kws={'edgecolor':'black'}, kde_kws={'linewidth': 4})\n",
    "plt.title('Distribution of Consumption')\n",
    "plt.xlabel('Consumption')\n",
    "plt.ylabel('Density')\n",
    "plt.show()"
   ]
  },
  {
   "cell_type": "code",
   "execution_count": null,
   "metadata": {},
   "outputs": [],
   "source": [
    "sns.distplot(opsd['Wind'], hist=True, kde=True, bins=100, color='darkblue', hist_kws={'edgecolor':'black'}, kde_kws={'linewidth': 4})\n",
    "plt.title('Distribution of Wind')\n",
    "plt.xlabel('Wind')\n",
    "plt.ylabel('Density')\n",
    "plt.show()"
   ]
  },
  {
   "cell_type": "code",
   "execution_count": null,
   "metadata": {},
   "outputs": [],
   "source": [
    "sns.distplot(opsd['Solar'], hist=True, kde=True, bins=100, color='darkblue', hist_kws={'edgecolor':'black'}, kde_kws={'linewidth': 4})\n",
    "plt.title('Distribution of Solar')\n",
    "plt.xlabel('Solar')\n",
    "plt.ylabel('Density')\n",
    "plt.show()"
   ]
  },
  {
   "cell_type": "code",
   "execution_count": null,
   "metadata": {},
   "outputs": [],
   "source": [
    "sns.distplot(opsd['Wind+Solar'], hist=True, kde=True, bins=100, color='darkblue', hist_kws={'edgecolor':'black'}, kde_kws={'linewidth': 4})\n",
    "plt.title('Distribution of Wind+Solar')\n",
    "plt.xlabel('Wind+Solar')\n",
    "plt.ylabel('Density')\n",
    "plt.show()"
   ]
  },
  {
   "cell_type": "code",
   "execution_count": null,
   "metadata": {},
   "outputs": [],
   "source": [
    "# turn the index into a column  \n",
    "opsd.reset_index(inplace=True)"
   ]
  },
  {
   "cell_type": "code",
   "execution_count": null,
   "metadata": {},
   "outputs": [],
   "source": [
    "# Set the index to be the datetime variable.\n",
    "opsd['Date'] = pd.to_datetime(opsd['Date'])\n",
    "opsd.set_index('Date', inplace=True)"
   ]
  },
  {
   "cell_type": "code",
   "execution_count": null,
   "metadata": {},
   "outputs": [],
   "source": [
    "# Add a month and a year column to your dataframe.\n",
    "opsd['month'] = opsd.index.month_name()\n",
    "opsd['year'] = opsd.index.year"
   ]
  },
  {
   "cell_type": "code",
   "execution_count": null,
   "metadata": {},
   "outputs": [],
   "source": [
    "# Fill any missing values.\n",
    "opsd['Wind'].fillna(0, inplace=True)\n",
    "opsd['Solar'].fillna(0, inplace=True)\n",
    "opsd['Wind+Solar'].fillna(0, inplace=True)"
   ]
  },
  {
   "cell_type": "code",
   "execution_count": null,
   "metadata": {},
   "outputs": [],
   "source": [
    "# check for missing values\n",
    "opsd.isnull().sum()"
   ]
  },
  {
   "cell_type": "code",
   "execution_count": null,
   "metadata": {},
   "outputs": [],
   "source": [
    "opsd.head()"
   ]
  },
  {
   "cell_type": "code",
   "execution_count": null,
   "metadata": {},
   "outputs": [],
   "source": [
    "# create a function for opsd_prep\n",
    "def opsd_prep(df):\n",
    "    ''' This function takes in the opsd_germany_daily dataframe and returns a dataframe with the following changes: \n",
    "    'Date' column is converted to datetime format, 'month' and 'year' columns are added, and 'Wind+Solar' column is added.\n",
    "    '''\n",
    "    df['Date'] = pd.to_datetime(df['Date'])\n",
    "    df.set_index('Date', inplace=True)\n",
    "    df['month'] = df.index.month_name()\n",
    "    df['year'] = df.index.year\n",
    "    df['Wind+Solar'] = df['Wind'] + df['Solar']\n",
    "    return df"
   ]
  },
  {
   "cell_type": "code",
   "execution_count": null,
   "metadata": {},
   "outputs": [],
   "source": [
    "# check function\n",
    "opsd_check = tsa.acquire_opsd_germany_daily()"
   ]
  },
  {
   "cell_type": "code",
   "execution_count": null,
   "metadata": {},
   "outputs": [],
   "source": [
    "opsd_check = tsp.opsd_prep(opsd_check)"
   ]
  }
 ],
 "metadata": {
  "interpreter": {
   "hash": "3067ead486e059ec00ffe7555bdb889e6e264a24dc711bf108106cc7baee8d5d"
  },
  "kernelspec": {
   "display_name": "Python 3.9.7 ('base')",
   "language": "python",
   "name": "python3"
  },
  "language_info": {
   "codemirror_mode": {
    "name": "ipython",
    "version": 3
   },
   "file_extension": ".py",
   "mimetype": "text/x-python",
   "name": "python",
   "nbconvert_exporter": "python",
   "pygments_lexer": "ipython3",
   "version": "3.9.7"
  },
  "orig_nbformat": 4
 },
 "nbformat": 4,
 "nbformat_minor": 2
}
